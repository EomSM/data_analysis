{
  "nbformat": 4,
  "nbformat_minor": 0,
  "metadata": {
    "colab": {
      "name": "word2vec-skip-gramipynb",
      "provenance": []
    },
    "kernelspec": {
      "name": "python3",
      "display_name": "Python 3"
    },
    "language_info": {
      "name": "python"
    }
  },
  "cells": [
    {
      "cell_type": "code",
      "metadata": {
        "id": "XrbWsVZQLeo-"
      },
      "source": [
        "from gensim.models import Word2Vec"
      ],
      "execution_count": 1,
      "outputs": []
    },
    {
      "cell_type": "code",
      "metadata": {
        "id": "_QN6DltcLkIq"
      },
      "source": [
        "docs = ['you say goodbye  and u say hello']"
      ],
      "execution_count": 2,
      "outputs": []
    },
    {
      "cell_type": "code",
      "metadata": {
        "id": "rwB3fDwcLsli"
      },
      "source": [
        "sentences = [list(sentence.split(' ')) for sentence in docs]"
      ],
      "execution_count": 3,
      "outputs": []
    },
    {
      "cell_type": "code",
      "metadata": {
        "id": "Z0AzAPL4L1eN"
      },
      "source": [
        "model = Word2Vec(size=3, window=1, min_count=1, sg=1)\n",
        "#size"
      ],
      "execution_count": 5,
      "outputs": []
    },
    {
      "cell_type": "code",
      "metadata": {
        "id": "RhApm7fmL8dq"
      },
      "source": [
        "model.build_vocab(sentences)"
      ],
      "execution_count": 6,
      "outputs": []
    },
    {
      "cell_type": "code",
      "metadata": {
        "colab": {
          "base_uri": "https://localhost:8080/"
        },
        "id": "xBdyNZ2HMCBQ",
        "outputId": "ba36111f-13c0-45f2-9cda-3d58ed7202f6"
      },
      "source": [
        "model.most_similar('say')\n",
        "#say를 단어를 가지고, 앞뒤의 단어들을 추론\n",
        "#앞에 있는 단어는 +, 뒤에 있는 단어는 -"
      ],
      "execution_count": 9,
      "outputs": [
        {
          "output_type": "stream",
          "text": [
            "/usr/local/lib/python3.7/dist-packages/ipykernel_launcher.py:1: DeprecationWarning: Call to deprecated `most_similar` (Method will be removed in 4.0.0, use self.wv.most_similar() instead).\n",
            "  \"\"\"Entry point for launching an IPython kernel.\n"
          ],
          "name": "stderr"
        },
        {
          "output_type": "execute_result",
          "data": {
            "text/plain": [
              "[('u', 0.8399239182472229),\n",
              " ('you', 0.6548044085502625),\n",
              " ('', 0.5914905667304993),\n",
              " ('goodbye', -0.5080996751785278),\n",
              " ('and', -0.5364505052566528),\n",
              " ('hello', -0.9904451370239258)]"
            ]
          },
          "metadata": {
            "tags": []
          },
          "execution_count": 9
        }
      ]
    },
    {
      "cell_type": "code",
      "metadata": {
        "id": "Fipkl-rWMGRR"
      },
      "source": [
        ""
      ],
      "execution_count": null,
      "outputs": []
    }
  ]
}